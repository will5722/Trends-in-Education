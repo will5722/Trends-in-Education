{
 "cells": [
  {
   "cell_type": "code",
   "execution_count": 3,
   "id": "c12e1449",
   "metadata": {},
   "outputs": [],
   "source": [
    "import pandas as pd\n",
    "import os\n",
    "institutions = pd.read_csv('Data/cc_institution_details.csv')\n",
    "genders = pd.read_csv('Data/cc_institution_grads.csv')"
   ]
  },
  {
   "cell_type": "code",
   "execution_count": null,
   "id": "ab0efb9e",
   "metadata": {},
   "outputs": [],
   "source": []
  }
 ],
 "metadata": {
  "kernelspec": {
   "display_name": "Python 3",
   "language": "python",
   "name": "python3"
  },
  "language_info": {
   "codemirror_mode": {
    "name": "ipython",
    "version": 3
   },
   "file_extension": ".py",
   "mimetype": "text/x-python",
   "name": "python",
   "nbconvert_exporter": "python",
   "pygments_lexer": "ipython3",
   "version": "3.8.8"
  }
 },
 "nbformat": 4,
 "nbformat_minor": 5
}
