{
 "cells": [
  {
   "cell_type": "code",
   "execution_count": 8,
   "id": "c12e1449",
   "metadata": {},
   "outputs": [],
   "source": [
    "import pandas as pd\n",
    "import os\n",
    "import matplotlib.pyplot as plt\n",
    "import numpy as np\n",
    "Inst = pd.read_csv('Inst.csv')\n",
    "#genders = pd.read_csv('Data/cc_institution_grads.csv')"
   ]
  },
  {
   "cell_type": "code",
   "execution_count": 2,
   "id": "ab0efb9e",
   "metadata": {},
   "outputs": [
    {
     "data": {
      "text/html": [
       "<div>\n",
       "<style scoped>\n",
       "    .dataframe tbody tr th:only-of-type {\n",
       "        vertical-align: middle;\n",
       "    }\n",
       "\n",
       "    .dataframe tbody tr th {\n",
       "        vertical-align: top;\n",
       "    }\n",
       "\n",
       "    .dataframe thead th {\n",
       "        text-align: right;\n",
       "    }\n",
       "</style>\n",
       "<table border=\"1\" class=\"dataframe\">\n",
       "  <thead>\n",
       "    <tr style=\"text-align: right;\">\n",
       "      <th></th>\n",
       "      <th>unitid</th>\n",
       "      <th>chronname</th>\n",
       "      <th>city</th>\n",
       "      <th>state</th>\n",
       "      <th>level</th>\n",
       "      <th>control</th>\n",
       "      <th>student_count</th>\n",
       "      <th>aid_value</th>\n",
       "      <th>grad_100_value</th>\n",
       "      <th>grad_150_value</th>\n",
       "    </tr>\n",
       "  </thead>\n",
       "  <tbody>\n",
       "    <tr>\n",
       "      <th>0</th>\n",
       "      <td>100654</td>\n",
       "      <td>Alabama A&amp;M University</td>\n",
       "      <td>Normal</td>\n",
       "      <td>Alabama</td>\n",
       "      <td>4-year</td>\n",
       "      <td>Public</td>\n",
       "      <td>4051</td>\n",
       "      <td>7142.0</td>\n",
       "      <td>10.0</td>\n",
       "      <td>29.1</td>\n",
       "    </tr>\n",
       "    <tr>\n",
       "      <th>1</th>\n",
       "      <td>100663</td>\n",
       "      <td>University of Alabama at Birmingham</td>\n",
       "      <td>Birmingham</td>\n",
       "      <td>Alabama</td>\n",
       "      <td>4-year</td>\n",
       "      <td>Public</td>\n",
       "      <td>11502</td>\n",
       "      <td>6088.0</td>\n",
       "      <td>29.4</td>\n",
       "      <td>53.5</td>\n",
       "    </tr>\n",
       "    <tr>\n",
       "      <th>2</th>\n",
       "      <td>100706</td>\n",
       "      <td>University of Alabama at Huntsville</td>\n",
       "      <td>Huntsville</td>\n",
       "      <td>Alabama</td>\n",
       "      <td>4-year</td>\n",
       "      <td>Public</td>\n",
       "      <td>5696</td>\n",
       "      <td>6647.0</td>\n",
       "      <td>16.5</td>\n",
       "      <td>48.4</td>\n",
       "    </tr>\n",
       "    <tr>\n",
       "      <th>3</th>\n",
       "      <td>100724</td>\n",
       "      <td>Alabama State University</td>\n",
       "      <td>Montgomery</td>\n",
       "      <td>Alabama</td>\n",
       "      <td>4-year</td>\n",
       "      <td>Public</td>\n",
       "      <td>5356</td>\n",
       "      <td>7256.0</td>\n",
       "      <td>8.8</td>\n",
       "      <td>25.2</td>\n",
       "    </tr>\n",
       "    <tr>\n",
       "      <th>4</th>\n",
       "      <td>100751</td>\n",
       "      <td>University of Alabama at Tuscaloosa</td>\n",
       "      <td>Tuscaloosa</td>\n",
       "      <td>Alabama</td>\n",
       "      <td>4-year</td>\n",
       "      <td>Public</td>\n",
       "      <td>29440</td>\n",
       "      <td>10390.0</td>\n",
       "      <td>42.7</td>\n",
       "      <td>66.7</td>\n",
       "    </tr>\n",
       "  </tbody>\n",
       "</table>\n",
       "</div>"
      ],
      "text/plain": [
       "   unitid                            chronname        city    state   level  \\\n",
       "0  100654               Alabama A&M University      Normal  Alabama  4-year   \n",
       "1  100663  University of Alabama at Birmingham  Birmingham  Alabama  4-year   \n",
       "2  100706  University of Alabama at Huntsville  Huntsville  Alabama  4-year   \n",
       "3  100724             Alabama State University  Montgomery  Alabama  4-year   \n",
       "4  100751  University of Alabama at Tuscaloosa  Tuscaloosa  Alabama  4-year   \n",
       "\n",
       "  control  student_count  aid_value  grad_100_value  grad_150_value  \n",
       "0  Public           4051     7142.0            10.0            29.1  \n",
       "1  Public          11502     6088.0            29.4            53.5  \n",
       "2  Public           5696     6647.0            16.5            48.4  \n",
       "3  Public           5356     7256.0             8.8            25.2  \n",
       "4  Public          29440    10390.0            42.7            66.7  "
      ]
     },
     "execution_count": 2,
     "metadata": {},
     "output_type": "execute_result"
    }
   ],
   "source": [
    "Inst_control = Inst[['unitid', 'chronname', 'city', 'state', 'level', 'control','student_count', 'aid_value', \n",
    "            'grad_100_value', 'grad_150_value']]\n",
    "Inst_control.head()"
   ]
  },
  {
   "cell_type": "code",
   "execution_count": 21,
   "id": "4d50f51e",
   "metadata": {},
   "outputs": [
    {
     "name": "stdout",
     "output_type": "stream",
     "text": [
      "27.25, 49.35\n"
     ]
    }
   ],
   "source": [
    "public = Inst.loc[Inst['control'] == 'Public']\n",
    "public_grad_mean = round(public['grad_100_value'].mean(), 2)\n",
    "public_grad150_mean = round(public['grad_150_value'].mean(), 2)\n",
    "print(f\"{public_grad_mean}, {public_grad150_mean}\")\n"
   ]
  },
  {
   "cell_type": "code",
   "execution_count": 22,
   "id": "611a697b",
   "metadata": {},
   "outputs": [
    {
     "name": "stdout",
     "output_type": "stream",
     "text": [
      "38.4, 46.39\n"
     ]
    }
   ],
   "source": [
    "profit = Inst.loc[Inst['control'] == 'Private for-profit']\n",
    "profit_grad_mean = round(profit['grad_100_value'].mean(), 2)\n",
    "profit_grad150_mean = round(profit['grad_150_value'].mean(), 2)\n",
    "print(f\"{profit_grad_mean}, {profit_grad150_mean}\")"
   ]
  },
  {
   "cell_type": "code",
   "execution_count": 23,
   "id": "64fce204",
   "metadata": {},
   "outputs": [
    {
     "name": "stdout",
     "output_type": "stream",
     "text": [
      "45.47, 57.77\n"
     ]
    }
   ],
   "source": [
    "nonprofit = Inst.loc[Inst['control'] == 'Private not-for-profit']\n",
    "nonprofit_grad_mean = round(nonprofit['grad_100_value'].mean(), 2)\n",
    "nonprofit_grad150_mean = round(nonprofit['grad_150_value'].mean(), 2)\n",
    "print(f\"{nonprofit_grad_mean}, {nonprofit_grad150_mean}\")"
   ]
  },
  {
   "cell_type": "code",
   "execution_count": 34,
   "id": "5cf504c6",
   "metadata": {},
   "outputs": [
    {
     "data": {
      "image/png": "[encoded data removed]",
      "text/plain": [
       "<Figure size 432x288 with 1 Axes>"
      ]
     },
     "metadata": {
      "needs_background": "light"
     },
     "output_type": "display_data"
    },
    {
     "name": "stdout",
     "output_type": "stream",
     "text": [
      "Public Graduation Rates: 27.25% in 4 years, 49.35% in 6 years.\n",
      "Private For Profit Graduation Rates: 38.4% in 4 years, 46.39% in 6 years.\n",
      "Private Non-Profit Graduation Rates: 45.47% in 4 years, 57.77% in 6 years.\n"
     ]
    }
   ],
   "source": [
    "\n",
    "first_gradvals = [public_grad_mean, profit_grad_mean, nonprofit_grad_mean]\n",
    "second_gradvals = [public_grad150_mean, profit_grad150_mean, nonprofit_grad150_mean]\n",
    "\n",
    "labels = ['Public', 'Private For Profit', 'Private Non-Profit']\n",
    "ticks = np.arange(len(labels))\n",
    "plt.bar(ticks - 0.2, first_gradvals, 0.4)\n",
    "plt.bar(ticks + 0.2, second_gradvals, 0.4)\n",
    "plt.xticks(ticks, labels)\n",
    "plt.legend(['4 Years', '6 years'], loc='best')\n",
    "plt.title('Average Graduation Rate By Control of Institution')\n",
    "plt.xlabel('Control')\n",
    "plt.ylabel('Avg Graduation Rate (%)')\n",
    "plt.show()\n",
    "print(f\"Public Graduation Rates: {public_grad_mean}% in 4 years, {public_grad150_mean}% in 6 years.\")\n",
    "print(f\"Private For Profit Graduation Rates: {profit_grad_mean}% in 4 years, {profit_grad150_mean}% in 6 years.\")\n",
    "print(f\"Private Non-Profit Graduation Rates: {nonprofit_grad_mean}% in 4 years, {nonprofit_grad150_mean}% in 6 years.\")\n"
   ]
  },
  {
   "cell_type": "code",
   "execution_count": null,
   "id": "d2e89834",
   "metadata": {},
   "outputs": [],
   "source": []
  },
  {
   "cell_type": "code",
   "execution_count": null,
   "id": "1ce4265e",
   "metadata": {},
   "outputs": [],
   "source": []
  }
 ],
 "metadata": {
  "kernelspec": {
   "display_name": "Python 3",
   "language": "python",
   "name": "python3"
  },
  "language_info": {
   "codemirror_mode": {
    "name": "ipython",
    "version": 3
   },
   "file_extension": ".py",
   "mimetype": "text/x-python",
   "name": "python",
   "nbconvert_exporter": "python",
   "pygments_lexer": "ipython3",
   "version": "3.8.8"
  }
 },
 "nbformat": 4,
 "nbformat_minor": 5
}
