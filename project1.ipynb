{
 "cells": [
  {
   "cell_type": "code",
   "execution_count": 49,
   "id": "600d97c1",
   "metadata": {},
   "outputs": [],
   "source": [
    "import json\n",
    "from matplotlib import pyplot as plt\n",
    "import pandas as pd\n",
    "import numpy as np\n",
    "import requests\n",
    "import gmaps\n",
    "import os"
   ]
  },
  {
   "cell_type": "code",
   "execution_count": 50,
   "id": "d8a74c40",
   "metadata": {},
   "outputs": [],
   "source": [
    "Institutions = \"resources/cc_institution_details.csv\"\n",
    "Institutions_db = pd.read_csv(Institutions,encoding=\"cp1252\")"
   ]
  },
  {
   "cell_type": "code",
   "execution_count": 51,
   "id": "0fff40ec",
   "metadata": {},
   "outputs": [],
   "source": [
    "Grads = \"resources/cc_institution_grads.csv\"\n",
    "Grads_db = pd.read_csv(Grads)"
   ]
  },
  {
   "cell_type": "code",
   "execution_count": 52,
   "id": "346d7e4e",
   "metadata": {},
   "outputs": [
    {
     "data": {
      "text/html": [
       "<div>\n",
       "<style scoped>\n",
       "    .dataframe tbody tr th:only-of-type {\n",
       "        vertical-align: middle;\n",
       "    }\n",
       "\n",
       "    .dataframe tbody tr th {\n",
       "        vertical-align: top;\n",
       "    }\n",
       "\n",
       "    .dataframe thead th {\n",
       "        text-align: right;\n",
       "    }\n",
       "</style>\n",
       "<table border=\"1\" class=\"dataframe\">\n",
       "  <thead>\n",
       "    <tr style=\"text-align: right;\">\n",
       "      <th></th>\n",
       "      <th>unitid</th>\n",
       "      <th>chronname</th>\n",
       "      <th>city</th>\n",
       "      <th>state</th>\n",
       "      <th>level</th>\n",
       "      <th>control</th>\n",
       "      <th>basic</th>\n",
       "      <th>hbcu</th>\n",
       "      <th>flagship</th>\n",
       "      <th>long_x</th>\n",
       "      <th>...</th>\n",
       "      <th>vsa_grad_after6_transfer</th>\n",
       "      <th>vsa_grad_elsewhere_after6_transfer</th>\n",
       "      <th>vsa_enroll_after6_transfer</th>\n",
       "      <th>vsa_enroll_elsewhere_after6_transfer</th>\n",
       "      <th>similar</th>\n",
       "      <th>state_sector_ct</th>\n",
       "      <th>carnegie_ct</th>\n",
       "      <th>counted_pct</th>\n",
       "      <th>nicknames</th>\n",
       "      <th>cohort_size</th>\n",
       "    </tr>\n",
       "  </thead>\n",
       "  <tbody>\n",
       "    <tr>\n",
       "      <th>0</th>\n",
       "      <td>100654</td>\n",
       "      <td>Alabama A&amp;M University</td>\n",
       "      <td>Normal</td>\n",
       "      <td>Alabama</td>\n",
       "      <td>4-year</td>\n",
       "      <td>Public</td>\n",
       "      <td>Masters Colleges and Universities--larger prog...</td>\n",
       "      <td>X</td>\n",
       "      <td>NaN</td>\n",
       "      <td>-86.568502</td>\n",
       "      <td>...</td>\n",
       "      <td>36.4</td>\n",
       "      <td>5.6</td>\n",
       "      <td>17.2</td>\n",
       "      <td>11.1</td>\n",
       "      <td>232937|100724|405997|113607|139533|144005|2285...</td>\n",
       "      <td>13</td>\n",
       "      <td>386</td>\n",
       "      <td>99.7|07</td>\n",
       "      <td>NaN</td>\n",
       "      <td>882.0</td>\n",
       "    </tr>\n",
       "    <tr>\n",
       "      <th>1</th>\n",
       "      <td>100663</td>\n",
       "      <td>University of Alabama at Birmingham</td>\n",
       "      <td>Birmingham</td>\n",
       "      <td>Alabama</td>\n",
       "      <td>4-year</td>\n",
       "      <td>Public</td>\n",
       "      <td>Research Universities--very high research acti...</td>\n",
       "      <td>NaN</td>\n",
       "      <td>NaN</td>\n",
       "      <td>-86.809170</td>\n",
       "      <td>...</td>\n",
       "      <td>NaN</td>\n",
       "      <td>NaN</td>\n",
       "      <td>NaN</td>\n",
       "      <td>NaN</td>\n",
       "      <td>196060|180461|201885|145600|209542|236939|1268...</td>\n",
       "      <td>13</td>\n",
       "      <td>106</td>\n",
       "      <td>56.0|07</td>\n",
       "      <td>UAB</td>\n",
       "      <td>1376.0</td>\n",
       "    </tr>\n",
       "    <tr>\n",
       "      <th>2</th>\n",
       "      <td>100690</td>\n",
       "      <td>Amridge University</td>\n",
       "      <td>Montgomery</td>\n",
       "      <td>Alabama</td>\n",
       "      <td>4-year</td>\n",
       "      <td>Private not-for-profit</td>\n",
       "      <td>Baccalaureate Colleges--Arts &amp; Sciences</td>\n",
       "      <td>NaN</td>\n",
       "      <td>NaN</td>\n",
       "      <td>-86.174010</td>\n",
       "      <td>...</td>\n",
       "      <td>NaN</td>\n",
       "      <td>NaN</td>\n",
       "      <td>NaN</td>\n",
       "      <td>NaN</td>\n",
       "      <td>217925|441511|205124|247825|197647|221856|1353...</td>\n",
       "      <td>16</td>\n",
       "      <td>252</td>\n",
       "      <td>100.0|07</td>\n",
       "      <td>NaN</td>\n",
       "      <td>3.0</td>\n",
       "    </tr>\n",
       "    <tr>\n",
       "      <th>3</th>\n",
       "      <td>100706</td>\n",
       "      <td>University of Alabama at Huntsville</td>\n",
       "      <td>Huntsville</td>\n",
       "      <td>Alabama</td>\n",
       "      <td>4-year</td>\n",
       "      <td>Public</td>\n",
       "      <td>Research Universities--very high research acti...</td>\n",
       "      <td>NaN</td>\n",
       "      <td>NaN</td>\n",
       "      <td>-86.638420</td>\n",
       "      <td>...</td>\n",
       "      <td>0.0</td>\n",
       "      <td>0.0</td>\n",
       "      <td>0.0</td>\n",
       "      <td>0.0</td>\n",
       "      <td>232186|133881|196103|196413|207388|171128|1900...</td>\n",
       "      <td>13</td>\n",
       "      <td>106</td>\n",
       "      <td>43.1|07</td>\n",
       "      <td>UAH</td>\n",
       "      <td>759.0</td>\n",
       "    </tr>\n",
       "    <tr>\n",
       "      <th>4</th>\n",
       "      <td>100724</td>\n",
       "      <td>Alabama State University</td>\n",
       "      <td>Montgomery</td>\n",
       "      <td>Alabama</td>\n",
       "      <td>4-year</td>\n",
       "      <td>Public</td>\n",
       "      <td>Masters Colleges and Universities--larger prog...</td>\n",
       "      <td>X</td>\n",
       "      <td>NaN</td>\n",
       "      <td>-86.295677</td>\n",
       "      <td>...</td>\n",
       "      <td>NaN</td>\n",
       "      <td>NaN</td>\n",
       "      <td>NaN</td>\n",
       "      <td>NaN</td>\n",
       "      <td>100654|232937|242617|243197|144005|241739|2354...</td>\n",
       "      <td>13</td>\n",
       "      <td>386</td>\n",
       "      <td>88.0|07</td>\n",
       "      <td>ASU</td>\n",
       "      <td>1351.0</td>\n",
       "    </tr>\n",
       "  </tbody>\n",
       "</table>\n",
       "<p>5 rows × 62 columns</p>\n",
       "</div>"
      ],
      "text/plain": [
       "   unitid                            chronname        city    state   level  \\\n",
       "0  100654               Alabama A&M University      Normal  Alabama  4-year   \n",
       "1  100663  University of Alabama at Birmingham  Birmingham  Alabama  4-year   \n",
       "2  100690                   Amridge University  Montgomery  Alabama  4-year   \n",
       "3  100706  University of Alabama at Huntsville  Huntsville  Alabama  4-year   \n",
       "4  100724             Alabama State University  Montgomery  Alabama  4-year   \n",
       "\n",
       "                  control                                              basic  \\\n",
       "0                  Public  Masters Colleges and Universities--larger prog...   \n",
       "1                  Public  Research Universities--very high research acti...   \n",
       "2  Private not-for-profit            Baccalaureate Colleges--Arts & Sciences   \n",
       "3                  Public  Research Universities--very high research acti...   \n",
       "4                  Public  Masters Colleges and Universities--larger prog...   \n",
       "\n",
       "  hbcu flagship     long_x  ...  vsa_grad_after6_transfer  \\\n",
       "0    X      NaN -86.568502  ...                      36.4   \n",
       "1  NaN      NaN -86.809170  ...                       NaN   \n",
       "2  NaN      NaN -86.174010  ...                       NaN   \n",
       "3  NaN      NaN -86.638420  ...                       0.0   \n",
       "4    X      NaN -86.295677  ...                       NaN   \n",
       "\n",
       "  vsa_grad_elsewhere_after6_transfer  vsa_enroll_after6_transfer  \\\n",
       "0                                5.6                        17.2   \n",
       "1                                NaN                         NaN   \n",
       "2                                NaN                         NaN   \n",
       "3                                0.0                         0.0   \n",
       "4                                NaN                         NaN   \n",
       "\n",
       "   vsa_enroll_elsewhere_after6_transfer  \\\n",
       "0                                  11.1   \n",
       "1                                   NaN   \n",
       "2                                   NaN   \n",
       "3                                   0.0   \n",
       "4                                   NaN   \n",
       "\n",
       "                                             similar  state_sector_ct  \\\n",
       "0  232937|100724|405997|113607|139533|144005|2285...               13   \n",
       "1  196060|180461|201885|145600|209542|236939|1268...               13   \n",
       "2  217925|441511|205124|247825|197647|221856|1353...               16   \n",
       "3  232186|133881|196103|196413|207388|171128|1900...               13   \n",
       "4  100654|232937|242617|243197|144005|241739|2354...               13   \n",
       "\n",
       "   carnegie_ct  counted_pct  nicknames  cohort_size  \n",
       "0          386      99.7|07        NaN        882.0  \n",
       "1          106      56.0|07        UAB       1376.0  \n",
       "2          252     100.0|07        NaN          3.0  \n",
       "3          106      43.1|07        UAH        759.0  \n",
       "4          386      88.0|07        ASU       1351.0  \n",
       "\n",
       "[5 rows x 62 columns]"
      ]
     },
     "execution_count": 52,
     "metadata": {},
     "output_type": "execute_result"
    }
   ],
   "source": [
    "Institutions_db.head()"
   ]
  },
  {
   "cell_type": "code",
   "execution_count": 53,
   "id": "1b667428",
   "metadata": {},
   "outputs": [],
   "source": [
    "Inst = Institutions_db[[\"unitid\",\"chronname\",\"city\",\"state\",\"level\",\"control\",\"student_count\",\"med_sat_value\",\"aid_value\",\"grad_100_value\",\"grad_150_value\"]]"
   ]
  },
  {
   "cell_type": "code",
   "execution_count": 54,
   "id": "e3ffd71a",
   "metadata": {},
   "outputs": [
    {
     "data": {
      "text/html": [
       "<div>\n",
       "<style scoped>\n",
       "    .dataframe tbody tr th:only-of-type {\n",
       "        vertical-align: middle;\n",
       "    }\n",
       "\n",
       "    .dataframe tbody tr th {\n",
       "        vertical-align: top;\n",
       "    }\n",
       "\n",
       "    .dataframe thead th {\n",
       "        text-align: right;\n",
       "    }\n",
       "</style>\n",
       "<table border=\"1\" class=\"dataframe\">\n",
       "  <thead>\n",
       "    <tr style=\"text-align: right;\">\n",
       "      <th></th>\n",
       "      <th>unitid</th>\n",
       "      <th>chronname</th>\n",
       "      <th>city</th>\n",
       "      <th>state</th>\n",
       "      <th>level</th>\n",
       "      <th>control</th>\n",
       "      <th>student_count</th>\n",
       "      <th>med_sat_value</th>\n",
       "      <th>aid_value</th>\n",
       "      <th>grad_100_value</th>\n",
       "      <th>grad_150_value</th>\n",
       "    </tr>\n",
       "  </thead>\n",
       "  <tbody>\n",
       "    <tr>\n",
       "      <th>0</th>\n",
       "      <td>100654</td>\n",
       "      <td>Alabama A&amp;M University</td>\n",
       "      <td>Normal</td>\n",
       "      <td>Alabama</td>\n",
       "      <td>4-year</td>\n",
       "      <td>Public</td>\n",
       "      <td>4051</td>\n",
       "      <td>823.0</td>\n",
       "      <td>7142.0</td>\n",
       "      <td>10.0</td>\n",
       "      <td>29.1</td>\n",
       "    </tr>\n",
       "    <tr>\n",
       "      <th>1</th>\n",
       "      <td>100663</td>\n",
       "      <td>University of Alabama at Birmingham</td>\n",
       "      <td>Birmingham</td>\n",
       "      <td>Alabama</td>\n",
       "      <td>4-year</td>\n",
       "      <td>Public</td>\n",
       "      <td>11502</td>\n",
       "      <td>1146.0</td>\n",
       "      <td>6088.0</td>\n",
       "      <td>29.4</td>\n",
       "      <td>53.5</td>\n",
       "    </tr>\n",
       "    <tr>\n",
       "      <th>2</th>\n",
       "      <td>100690</td>\n",
       "      <td>Amridge University</td>\n",
       "      <td>Montgomery</td>\n",
       "      <td>Alabama</td>\n",
       "      <td>4-year</td>\n",
       "      <td>Private not-for-profit</td>\n",
       "      <td>322</td>\n",
       "      <td>NaN</td>\n",
       "      <td>2540.0</td>\n",
       "      <td>0.0</td>\n",
       "      <td>66.7</td>\n",
       "    </tr>\n",
       "    <tr>\n",
       "      <th>3</th>\n",
       "      <td>100706</td>\n",
       "      <td>University of Alabama at Huntsville</td>\n",
       "      <td>Huntsville</td>\n",
       "      <td>Alabama</td>\n",
       "      <td>4-year</td>\n",
       "      <td>Public</td>\n",
       "      <td>5696</td>\n",
       "      <td>1180.0</td>\n",
       "      <td>6647.0</td>\n",
       "      <td>16.5</td>\n",
       "      <td>48.4</td>\n",
       "    </tr>\n",
       "    <tr>\n",
       "      <th>4</th>\n",
       "      <td>100724</td>\n",
       "      <td>Alabama State University</td>\n",
       "      <td>Montgomery</td>\n",
       "      <td>Alabama</td>\n",
       "      <td>4-year</td>\n",
       "      <td>Public</td>\n",
       "      <td>5356</td>\n",
       "      <td>830.0</td>\n",
       "      <td>7256.0</td>\n",
       "      <td>8.8</td>\n",
       "      <td>25.2</td>\n",
       "    </tr>\n",
       "    <tr>\n",
       "      <th>...</th>\n",
       "      <td>...</td>\n",
       "      <td>...</td>\n",
       "      <td>...</td>\n",
       "      <td>...</td>\n",
       "      <td>...</td>\n",
       "      <td>...</td>\n",
       "      <td>...</td>\n",
       "      <td>...</td>\n",
       "      <td>...</td>\n",
       "      <td>...</td>\n",
       "      <td>...</td>\n",
       "    </tr>\n",
       "    <tr>\n",
       "      <th>3793</th>\n",
       "      <td>461528</td>\n",
       "      <td>Grace College of Divinity</td>\n",
       "      <td>Fayetteville</td>\n",
       "      <td>North Carolina</td>\n",
       "      <td>4-year</td>\n",
       "      <td>Private not-for-profit</td>\n",
       "      <td>110</td>\n",
       "      <td>NaN</td>\n",
       "      <td>4860.0</td>\n",
       "      <td>0.0</td>\n",
       "      <td>0.0</td>\n",
       "    </tr>\n",
       "    <tr>\n",
       "      <th>3794</th>\n",
       "      <td>462354</td>\n",
       "      <td>John Paul the Great Catholic University</td>\n",
       "      <td>Escondido</td>\n",
       "      <td>California</td>\n",
       "      <td>4-year</td>\n",
       "      <td>Private not-for-profit</td>\n",
       "      <td>140</td>\n",
       "      <td>1069.0</td>\n",
       "      <td>9395.0</td>\n",
       "      <td>51.5</td>\n",
       "      <td>51.5</td>\n",
       "    </tr>\n",
       "    <tr>\n",
       "      <th>3795</th>\n",
       "      <td>466921</td>\n",
       "      <td>Chamberlain College of Nursing-Missouri</td>\n",
       "      <td>St. Louis</td>\n",
       "      <td>Missouri</td>\n",
       "      <td>4-year</td>\n",
       "      <td>Private for-profit</td>\n",
       "      <td>488</td>\n",
       "      <td>NaN</td>\n",
       "      <td>3291.0</td>\n",
       "      <td>37.5</td>\n",
       "      <td>37.5</td>\n",
       "    </tr>\n",
       "    <tr>\n",
       "      <th>3796</th>\n",
       "      <td>474881</td>\n",
       "      <td>Minneapolis Media Institute</td>\n",
       "      <td>Edina</td>\n",
       "      <td>Minnesota</td>\n",
       "      <td>2-year</td>\n",
       "      <td>Private for-profit</td>\n",
       "      <td>147</td>\n",
       "      <td>NaN</td>\n",
       "      <td>3434.0</td>\n",
       "      <td>42.1</td>\n",
       "      <td>55.9</td>\n",
       "    </tr>\n",
       "    <tr>\n",
       "      <th>3797</th>\n",
       "      <td>475291</td>\n",
       "      <td>Brown College-Brooklyn Center</td>\n",
       "      <td>Brooklyn Center</td>\n",
       "      <td>Minnesota</td>\n",
       "      <td>4-year</td>\n",
       "      <td>Private for-profit</td>\n",
       "      <td>144</td>\n",
       "      <td>NaN</td>\n",
       "      <td>5379.0</td>\n",
       "      <td>34.8</td>\n",
       "      <td>47.8</td>\n",
       "    </tr>\n",
       "  </tbody>\n",
       "</table>\n",
       "<p>3798 rows × 11 columns</p>\n",
       "</div>"
      ],
      "text/plain": [
       "      unitid                                chronname             city  \\\n",
       "0     100654                   Alabama A&M University           Normal   \n",
       "1     100663      University of Alabama at Birmingham       Birmingham   \n",
       "2     100690                       Amridge University       Montgomery   \n",
       "3     100706      University of Alabama at Huntsville       Huntsville   \n",
       "4     100724                 Alabama State University       Montgomery   \n",
       "...      ...                                      ...              ...   \n",
       "3793  461528                Grace College of Divinity     Fayetteville   \n",
       "3794  462354  John Paul the Great Catholic University        Escondido   \n",
       "3795  466921  Chamberlain College of Nursing-Missouri        St. Louis   \n",
       "3796  474881              Minneapolis Media Institute            Edina   \n",
       "3797  475291            Brown College-Brooklyn Center  Brooklyn Center   \n",
       "\n",
       "               state   level                 control  student_count  \\\n",
       "0            Alabama  4-year                  Public           4051   \n",
       "1            Alabama  4-year                  Public          11502   \n",
       "2            Alabama  4-year  Private not-for-profit            322   \n",
       "3            Alabama  4-year                  Public           5696   \n",
       "4            Alabama  4-year                  Public           5356   \n",
       "...              ...     ...                     ...            ...   \n",
       "3793  North Carolina  4-year  Private not-for-profit            110   \n",
       "3794      California  4-year  Private not-for-profit            140   \n",
       "3795        Missouri  4-year      Private for-profit            488   \n",
       "3796       Minnesota  2-year      Private for-profit            147   \n",
       "3797       Minnesota  4-year      Private for-profit            144   \n",
       "\n",
       "      med_sat_value  aid_value  grad_100_value  grad_150_value  \n",
       "0             823.0     7142.0            10.0            29.1  \n",
       "1            1146.0     6088.0            29.4            53.5  \n",
       "2               NaN     2540.0             0.0            66.7  \n",
       "3            1180.0     6647.0            16.5            48.4  \n",
       "4             830.0     7256.0             8.8            25.2  \n",
       "...             ...        ...             ...             ...  \n",
       "3793            NaN     4860.0             0.0             0.0  \n",
       "3794         1069.0     9395.0            51.5            51.5  \n",
       "3795            NaN     3291.0            37.5            37.5  \n",
       "3796            NaN     3434.0            42.1            55.9  \n",
       "3797            NaN     5379.0            34.8            47.8  \n",
       "\n",
       "[3798 rows x 11 columns]"
      ]
     },
     "execution_count": 54,
     "metadata": {},
     "output_type": "execute_result"
    }
   ],
   "source": [
    "Inst"
   ]
  },
  {
   "cell_type": "code",
   "execution_count": 55,
   "id": "46c0fdc6",
   "metadata": {},
   "outputs": [],
   "source": [
    "Inst2 = Inst.loc[(Inst[\"level\"] == \"4-year\")]"
   ]
  },
  {
   "cell_type": "code",
   "execution_count": 56,
   "id": "f098f4cf",
   "metadata": {},
   "outputs": [
    {
     "data": {
      "text/plain": [
       "2339"
      ]
     },
     "execution_count": 56,
     "metadata": {},
     "output_type": "execute_result"
    }
   ],
   "source": [
    "len(Inst2)"
   ]
  },
  {
   "cell_type": "code",
   "execution_count": 57,
   "id": "78b6cf22",
   "metadata": {},
   "outputs": [],
   "source": [
    "Inst2 = Inst2.dropna()"
   ]
  },
  {
   "cell_type": "code",
   "execution_count": 58,
   "id": "b3ebc03f",
   "metadata": {},
   "outputs": [
    {
     "data": {
      "text/plain": [
       "1297"
      ]
     },
     "execution_count": 58,
     "metadata": {},
     "output_type": "execute_result"
    }
   ],
   "source": [
    "len(Inst2)"
   ]
  },
  {
   "cell_type": "code",
   "execution_count": 59,
   "id": "0f280c9f",
   "metadata": {},
   "outputs": [],
   "source": [
    "Howmanystates = Inst2.groupby([\"state\"]).count()"
   ]
  },
  {
   "cell_type": "code",
   "execution_count": 60,
   "id": "7141ea1e",
   "metadata": {},
   "outputs": [
    {
     "data": {
      "text/plain": [
       "51"
      ]
     },
     "execution_count": 60,
     "metadata": {},
     "output_type": "execute_result"
    }
   ],
   "source": [
    "len(Howmanystates)"
   ]
  },
  {
   "cell_type": "code",
   "execution_count": 61,
   "id": "ebf998a6",
   "metadata": {},
   "outputs": [
    {
     "data": {
      "text/html": [
       "<div>\n",
       "<style scoped>\n",
       "    .dataframe tbody tr th:only-of-type {\n",
       "        vertical-align: middle;\n",
       "    }\n",
       "\n",
       "    .dataframe tbody tr th {\n",
       "        vertical-align: top;\n",
       "    }\n",
       "\n",
       "    .dataframe thead th {\n",
       "        text-align: right;\n",
       "    }\n",
       "</style>\n",
       "<table border=\"1\" class=\"dataframe\">\n",
       "  <thead>\n",
       "    <tr style=\"text-align: right;\">\n",
       "      <th></th>\n",
       "      <th>unitid</th>\n",
       "      <th>year</th>\n",
       "      <th>gender</th>\n",
       "      <th>race</th>\n",
       "      <th>cohort</th>\n",
       "      <th>grad_cohort</th>\n",
       "      <th>grad_100</th>\n",
       "      <th>grad_150</th>\n",
       "      <th>grad_100_rate</th>\n",
       "      <th>grad_150_rate</th>\n",
       "    </tr>\n",
       "  </thead>\n",
       "  <tbody>\n",
       "    <tr>\n",
       "      <th>0</th>\n",
       "      <td>100760</td>\n",
       "      <td>2011</td>\n",
       "      <td>B</td>\n",
       "      <td>X</td>\n",
       "      <td>2y all</td>\n",
       "      <td>446.0</td>\n",
       "      <td>73.0</td>\n",
       "      <td>105.0</td>\n",
       "      <td>16.4</td>\n",
       "      <td>23.5</td>\n",
       "    </tr>\n",
       "    <tr>\n",
       "      <th>1</th>\n",
       "      <td>100760</td>\n",
       "      <td>2011</td>\n",
       "      <td>M</td>\n",
       "      <td>X</td>\n",
       "      <td>2y all</td>\n",
       "      <td>185.0</td>\n",
       "      <td>NaN</td>\n",
       "      <td>40.0</td>\n",
       "      <td>NaN</td>\n",
       "      <td>21.6</td>\n",
       "    </tr>\n",
       "    <tr>\n",
       "      <th>2</th>\n",
       "      <td>100760</td>\n",
       "      <td>2011</td>\n",
       "      <td>F</td>\n",
       "      <td>X</td>\n",
       "      <td>2y all</td>\n",
       "      <td>261.0</td>\n",
       "      <td>NaN</td>\n",
       "      <td>65.0</td>\n",
       "      <td>NaN</td>\n",
       "      <td>24.9</td>\n",
       "    </tr>\n",
       "    <tr>\n",
       "      <th>3</th>\n",
       "      <td>100760</td>\n",
       "      <td>2011</td>\n",
       "      <td>B</td>\n",
       "      <td>W</td>\n",
       "      <td>2y all</td>\n",
       "      <td>348.0</td>\n",
       "      <td>NaN</td>\n",
       "      <td>86.0</td>\n",
       "      <td>NaN</td>\n",
       "      <td>24.7</td>\n",
       "    </tr>\n",
       "    <tr>\n",
       "      <th>4</th>\n",
       "      <td>100760</td>\n",
       "      <td>2011</td>\n",
       "      <td>M</td>\n",
       "      <td>W</td>\n",
       "      <td>2y all</td>\n",
       "      <td>162.0</td>\n",
       "      <td>NaN</td>\n",
       "      <td>35.0</td>\n",
       "      <td>NaN</td>\n",
       "      <td>21.6</td>\n",
       "    </tr>\n",
       "    <tr>\n",
       "      <th>...</th>\n",
       "      <td>...</td>\n",
       "      <td>...</td>\n",
       "      <td>...</td>\n",
       "      <td>...</td>\n",
       "      <td>...</td>\n",
       "      <td>...</td>\n",
       "      <td>...</td>\n",
       "      <td>...</td>\n",
       "      <td>...</td>\n",
       "      <td>...</td>\n",
       "    </tr>\n",
       "    <tr>\n",
       "      <th>1302097</th>\n",
       "      <td>168591</td>\n",
       "      <td>2002</td>\n",
       "      <td>F</td>\n",
       "      <td>Ai</td>\n",
       "      <td>4y other</td>\n",
       "      <td>NaN</td>\n",
       "      <td>NaN</td>\n",
       "      <td>NaN</td>\n",
       "      <td>NaN</td>\n",
       "      <td>NaN</td>\n",
       "    </tr>\n",
       "    <tr>\n",
       "      <th>1302098</th>\n",
       "      <td>168740</td>\n",
       "      <td>2002</td>\n",
       "      <td>F</td>\n",
       "      <td>Ai</td>\n",
       "      <td>4y other</td>\n",
       "      <td>0.0</td>\n",
       "      <td>NaN</td>\n",
       "      <td>0.0</td>\n",
       "      <td>NaN</td>\n",
       "      <td>NaN</td>\n",
       "    </tr>\n",
       "    <tr>\n",
       "      <th>1302099</th>\n",
       "      <td>169716</td>\n",
       "      <td>2002</td>\n",
       "      <td>F</td>\n",
       "      <td>Ai</td>\n",
       "      <td>4y other</td>\n",
       "      <td>NaN</td>\n",
       "      <td>NaN</td>\n",
       "      <td>NaN</td>\n",
       "      <td>NaN</td>\n",
       "      <td>NaN</td>\n",
       "    </tr>\n",
       "    <tr>\n",
       "      <th>1302100</th>\n",
       "      <td>170082</td>\n",
       "      <td>2002</td>\n",
       "      <td>F</td>\n",
       "      <td>Ai</td>\n",
       "      <td>4y other</td>\n",
       "      <td>NaN</td>\n",
       "      <td>NaN</td>\n",
       "      <td>NaN</td>\n",
       "      <td>NaN</td>\n",
       "      <td>NaN</td>\n",
       "    </tr>\n",
       "    <tr>\n",
       "      <th>1302101</th>\n",
       "      <td>170091</td>\n",
       "      <td>2002</td>\n",
       "      <td>F</td>\n",
       "      <td>Ai</td>\n",
       "      <td>4y other</td>\n",
       "      <td>0.0</td>\n",
       "      <td>NaN</td>\n",
       "      <td>0.0</td>\n",
       "      <td>NaN</td>\n",
       "      <td>NaN</td>\n",
       "    </tr>\n",
       "  </tbody>\n",
       "</table>\n",
       "<p>1302102 rows × 10 columns</p>\n",
       "</div>"
      ],
      "text/plain": [
       "         unitid  year gender race    cohort  grad_cohort  grad_100  grad_150  \\\n",
       "0        100760  2011      B    X    2y all        446.0      73.0     105.0   \n",
       "1        100760  2011      M    X    2y all        185.0       NaN      40.0   \n",
       "2        100760  2011      F    X    2y all        261.0       NaN      65.0   \n",
       "3        100760  2011      B    W    2y all        348.0       NaN      86.0   \n",
       "4        100760  2011      M    W    2y all        162.0       NaN      35.0   \n",
       "...         ...   ...    ...  ...       ...          ...       ...       ...   \n",
       "1302097  168591  2002      F   Ai  4y other          NaN       NaN       NaN   \n",
       "1302098  168740  2002      F   Ai  4y other          0.0       NaN       0.0   \n",
       "1302099  169716  2002      F   Ai  4y other          NaN       NaN       NaN   \n",
       "1302100  170082  2002      F   Ai  4y other          NaN       NaN       NaN   \n",
       "1302101  170091  2002      F   Ai  4y other          0.0       NaN       0.0   \n",
       "\n",
       "         grad_100_rate  grad_150_rate  \n",
       "0                 16.4           23.5  \n",
       "1                  NaN           21.6  \n",
       "2                  NaN           24.9  \n",
       "3                  NaN           24.7  \n",
       "4                  NaN           21.6  \n",
       "...                ...            ...  \n",
       "1302097            NaN            NaN  \n",
       "1302098            NaN            NaN  \n",
       "1302099            NaN            NaN  \n",
       "1302100            NaN            NaN  \n",
       "1302101            NaN            NaN  \n",
       "\n",
       "[1302102 rows x 10 columns]"
      ]
     },
     "execution_count": 61,
     "metadata": {},
     "output_type": "execute_result"
    }
   ],
   "source": [
    "Grads_db"
   ]
  },
  {
   "cell_type": "code",
   "execution_count": 62,
   "id": "658dd475",
   "metadata": {},
   "outputs": [
    {
     "data": {
      "text/plain": [
       "1302102"
      ]
     },
     "execution_count": 62,
     "metadata": {},
     "output_type": "execute_result"
    }
   ],
   "source": [
    "len(Grads_db)"
   ]
  },
  {
   "cell_type": "code",
   "execution_count": 63,
   "id": "b4360945",
   "metadata": {},
   "outputs": [],
   "source": [
    "#We dropped a lot of records from the Institution database. Now, we have to get rid of all \n",
    "#the Institutions we have in Grads data base to have the same amount of schools \n",
    "#in the institutions db and the Grads_db."
   ]
  },
  {
   "cell_type": "code",
   "execution_count": 64,
   "id": "0bf7c30f",
   "metadata": {},
   "outputs": [],
   "source": [
    "b=Inst2[\"unitid\"].unique()"
   ]
  },
  {
   "cell_type": "code",
   "execution_count": 65,
   "id": "fcd804f5",
   "metadata": {},
   "outputs": [
    {
     "data": {
      "text/plain": [
       "1297"
      ]
     },
     "execution_count": 65,
     "metadata": {},
     "output_type": "execute_result"
    }
   ],
   "source": [
    "len(b)"
   ]
  },
  {
   "cell_type": "code",
   "execution_count": 66,
   "id": "538d0c5b",
   "metadata": {},
   "outputs": [],
   "source": [
    "b2=Grads_db[\"unitid\"].unique()"
   ]
  },
  {
   "cell_type": "code",
   "execution_count": 67,
   "id": "171322fc",
   "metadata": {},
   "outputs": [
    {
     "data": {
      "text/plain": [
       "3979"
      ]
     },
     "execution_count": 67,
     "metadata": {},
     "output_type": "execute_result"
    }
   ],
   "source": [
    "len(b2)"
   ]
  },
  {
   "cell_type": "code",
   "execution_count": null,
   "id": "8c1f7bf2",
   "metadata": {},
   "outputs": [],
   "source": [
    "#As seen here the amount of Institutions in Inst2 data set is not the same amount of Inst in Grads data set"
   ]
  },
  {
   "cell_type": "code",
   "execution_count": 25,
   "id": "c42c4cca",
   "metadata": {},
   "outputs": [],
   "source": [
    "#This following code creates an array with the schools that are not in InstitutionDB but exsists in Grads_db"
   ]
  },
  {
   "cell_type": "code",
   "execution_count": 26,
   "id": "d82a59ad",
   "metadata": {},
   "outputs": [],
   "source": [
    "StudentswithoutSchools=[]\n",
    "for index, row in Grads_db.iterrows():\n",
    "   \n",
    "    School = row[\"unitid\"]\n",
    "   # print(School)\n",
    "    SchoolsinInst = Inst2.loc[(Inst2[\"unitid\"] == School)] \n",
    "    InstFlag = SchoolsinInst.empty\n",
    "    if InstFlag == True:\n",
    "        if School not in StudentswithoutSchools:\n",
    "            StudentswithoutSchools.append(School)"
   ]
  },
  {
   "cell_type": "code",
   "execution_count": 28,
   "id": "2fb7c1fe",
   "metadata": {},
   "outputs": [
    {
     "data": {
      "text/plain": [
       "2682"
      ]
     },
     "execution_count": 28,
     "metadata": {},
     "output_type": "execute_result"
    }
   ],
   "source": [
    "len(StudentswithoutSchools)"
   ]
  },
  {
   "cell_type": "code",
   "execution_count": 29,
   "id": "a4f1e53d",
   "metadata": {},
   "outputs": [],
   "source": [
    "#The following code creates an array with the schools that are in Institution but not in Grads_db(Just a test) \n",
    "#because we expect to get zero"
   ]
  },
  {
   "cell_type": "code",
   "execution_count": 30,
   "id": "67c434a5",
   "metadata": {},
   "outputs": [],
   "source": [
    "SchoolsWOStudents=[]\n",
    "for index, row in Inst2.iterrows():\n",
    "   \n",
    "    School = row[\"unitid\"]\n",
    "   # print(School)\n",
    "    SchoolsinInst = Grads_db.loc[(Grads_db[\"unitid\"] == School)] \n",
    "    InstFlag = SchoolsinInst.empty\n",
    "    if InstFlag == True:\n",
    "        if School not in SchoolsWOStudents:\n",
    "            SchoolsWOStudents.append(School)   "
   ]
  },
  {
   "cell_type": "code",
   "execution_count": 31,
   "id": "a11b4a84",
   "metadata": {},
   "outputs": [
    {
     "data": {
      "text/plain": [
       "0"
      ]
     },
     "execution_count": 31,
     "metadata": {},
     "output_type": "execute_result"
    }
   ],
   "source": [
    "#This is expected to be zero because we didn't get rid of anything from Grads db yet\n",
    "len(SchoolsWOStudents)"
   ]
  },
  {
   "cell_type": "code",
   "execution_count": 32,
   "id": "458395e0",
   "metadata": {},
   "outputs": [],
   "source": [
    "columns = [\"school\"]\n",
    "Table = pd.DataFrame(data=StudentswithoutSchools,columns=columns)"
   ]
  },
  {
   "cell_type": "code",
   "execution_count": 38,
   "id": "511be5fc",
   "metadata": {},
   "outputs": [
    {
     "data": {
      "text/plain": [
       "2682"
      ]
     },
     "execution_count": 38,
     "metadata": {},
     "output_type": "execute_result"
    }
   ],
   "source": [
    "len(Table)"
   ]
  },
  {
   "cell_type": "code",
   "execution_count": 34,
   "id": "b4d0eb69",
   "metadata": {},
   "outputs": [
    {
     "data": {
      "text/plain": [
       "1302102"
      ]
     },
     "execution_count": 34,
     "metadata": {},
     "output_type": "execute_result"
    }
   ],
   "source": [
    "len(Grads_db)"
   ]
  },
  {
   "cell_type": "code",
   "execution_count": 35,
   "id": "c0025816",
   "metadata": {},
   "outputs": [],
   "source": [
    "#This will drop all the students that have no school in the main Institution data.---It dropped 2682 schools that we had null values\n",
    "#that made 744390 records dropped out of 1302102\n",
    "for index, row in Table.iterrows():\n",
    "       \n",
    "    School = row[\"school\"]\n",
    "    #print(School)\n",
    "    indexnumbers = Grads_db[Grads_db['unitid']==School].index\n",
    "    Grads_db.drop(indexnumbers,inplace=True)"
   ]
  },
  {
   "cell_type": "code",
   "execution_count": null,
   "id": "5ace6e23",
   "metadata": {},
   "outputs": [],
   "source": []
  },
  {
   "cell_type": "code",
   "execution_count": null,
   "id": "08ab8f81",
   "metadata": {},
   "outputs": [],
   "source": [
    "#Ending with this ammount of students"
   ]
  },
  {
   "cell_type": "code",
   "execution_count": 41,
   "id": "730844f8",
   "metadata": {},
   "outputs": [
    {
     "data": {
      "text/plain": [
       "557712"
      ]
     },
     "execution_count": 41,
     "metadata": {},
     "output_type": "execute_result"
    }
   ],
   "source": [
    "len(Grads_db)"
   ]
  },
  {
   "cell_type": "code",
   "execution_count": 45,
   "id": "fed3c7f1",
   "metadata": {},
   "outputs": [],
   "source": [
    "b=Inst2[\"unitid\"].unique()"
   ]
  },
  {
   "cell_type": "code",
   "execution_count": 46,
   "id": "fd28edf9",
   "metadata": {},
   "outputs": [
    {
     "data": {
      "text/plain": [
       "1297"
      ]
     },
     "execution_count": 46,
     "metadata": {},
     "output_type": "execute_result"
    }
   ],
   "source": [
    "len(b)"
   ]
  },
  {
   "cell_type": "code",
   "execution_count": 47,
   "id": "a61bd99a",
   "metadata": {},
   "outputs": [],
   "source": [
    "b2=Grads_db[\"unitid\"].unique()"
   ]
  },
  {
   "cell_type": "code",
   "execution_count": 48,
   "id": "c682418c",
   "metadata": {},
   "outputs": [
    {
     "data": {
      "text/plain": [
       "1297"
      ]
     },
     "execution_count": 48,
     "metadata": {},
     "output_type": "execute_result"
    }
   ],
   "source": [
    "#As seen here now Grads and Institution data set contain the same amount of Institutions per state.\n",
    "len(b2)"
   ]
  },
  {
   "cell_type": "code",
   "execution_count": null,
   "id": "1ea99ff5",
   "metadata": {},
   "outputs": [],
   "source": [
    "#found out we had to get rid of the gender by just grabing all the both in gender and race which are the\n",
    "#ones that will contain all the info per year and per school or Institution"
   ]
  },
  {
   "cell_type": "code",
   "execution_count": 42,
   "id": "d5db41ac",
   "metadata": {},
   "outputs": [],
   "source": [
    "BothGenders = Grads_db.loc[(Grads_db[\"gender\"] == \"B\") & (Grads_db[\"race\"] == \"B\")]"
   ]
  },
  {
   "cell_type": "code",
   "execution_count": 43,
   "id": "84ec1f79",
   "metadata": {},
   "outputs": [],
   "source": [
    "Grads_db2 = BothGenders.groupby([\"unitid\",\"year\"], as_index=False).sum()"
   ]
  },
  {
   "cell_type": "code",
   "execution_count": 44,
   "id": "82111808",
   "metadata": {},
   "outputs": [
    {
     "data": {
      "text/html": [
       "<div>\n",
       "<style scoped>\n",
       "    .dataframe tbody tr th:only-of-type {\n",
       "        vertical-align: middle;\n",
       "    }\n",
       "\n",
       "    .dataframe tbody tr th {\n",
       "        vertical-align: top;\n",
       "    }\n",
       "\n",
       "    .dataframe thead th {\n",
       "        text-align: right;\n",
       "    }\n",
       "</style>\n",
       "<table border=\"1\" class=\"dataframe\">\n",
       "  <thead>\n",
       "    <tr style=\"text-align: right;\">\n",
       "      <th></th>\n",
       "      <th>unitid</th>\n",
       "      <th>year</th>\n",
       "      <th>grad_cohort</th>\n",
       "      <th>grad_100</th>\n",
       "      <th>grad_150</th>\n",
       "      <th>grad_100_rate</th>\n",
       "      <th>grad_150_rate</th>\n",
       "    </tr>\n",
       "  </thead>\n",
       "  <tbody>\n",
       "    <tr>\n",
       "      <th>0</th>\n",
       "      <td>100654</td>\n",
       "      <td>2002</td>\n",
       "      <td>680.0</td>\n",
       "      <td>139.0</td>\n",
       "      <td>263.0</td>\n",
       "      <td>20.4</td>\n",
       "      <td>38.7</td>\n",
       "    </tr>\n",
       "    <tr>\n",
       "      <th>1</th>\n",
       "      <td>100654</td>\n",
       "      <td>2003</td>\n",
       "      <td>748.0</td>\n",
       "      <td>153.0</td>\n",
       "      <td>288.0</td>\n",
       "      <td>20.5</td>\n",
       "      <td>38.5</td>\n",
       "    </tr>\n",
       "    <tr>\n",
       "      <th>2</th>\n",
       "      <td>100654</td>\n",
       "      <td>2004</td>\n",
       "      <td>955.0</td>\n",
       "      <td>173.0</td>\n",
       "      <td>314.0</td>\n",
       "      <td>18.1</td>\n",
       "      <td>32.9</td>\n",
       "    </tr>\n",
       "    <tr>\n",
       "      <th>3</th>\n",
       "      <td>100654</td>\n",
       "      <td>2005</td>\n",
       "      <td>1046.0</td>\n",
       "      <td>91.0</td>\n",
       "      <td>339.0</td>\n",
       "      <td>8.7</td>\n",
       "      <td>32.4</td>\n",
       "    </tr>\n",
       "    <tr>\n",
       "      <th>4</th>\n",
       "      <td>100654</td>\n",
       "      <td>2006</td>\n",
       "      <td>967.0</td>\n",
       "      <td>112.0</td>\n",
       "      <td>326.0</td>\n",
       "      <td>11.6</td>\n",
       "      <td>33.7</td>\n",
       "    </tr>\n",
       "    <tr>\n",
       "      <th>...</th>\n",
       "      <td>...</td>\n",
       "      <td>...</td>\n",
       "      <td>...</td>\n",
       "      <td>...</td>\n",
       "      <td>...</td>\n",
       "      <td>...</td>\n",
       "      <td>...</td>\n",
       "    </tr>\n",
       "    <tr>\n",
       "      <th>15487</th>\n",
       "      <td>454184</td>\n",
       "      <td>2012</td>\n",
       "      <td>1.0</td>\n",
       "      <td>0.0</td>\n",
       "      <td>0.0</td>\n",
       "      <td>0.0</td>\n",
       "      <td>0.0</td>\n",
       "    </tr>\n",
       "    <tr>\n",
       "      <th>15488</th>\n",
       "      <td>454184</td>\n",
       "      <td>2013</td>\n",
       "      <td>1.0</td>\n",
       "      <td>1.0</td>\n",
       "      <td>1.0</td>\n",
       "      <td>100.0</td>\n",
       "      <td>100.0</td>\n",
       "    </tr>\n",
       "    <tr>\n",
       "      <th>15489</th>\n",
       "      <td>462354</td>\n",
       "      <td>2011</td>\n",
       "      <td>0.0</td>\n",
       "      <td>0.0</td>\n",
       "      <td>0.0</td>\n",
       "      <td>0.0</td>\n",
       "      <td>0.0</td>\n",
       "    </tr>\n",
       "    <tr>\n",
       "      <th>15490</th>\n",
       "      <td>462354</td>\n",
       "      <td>2012</td>\n",
       "      <td>1.0</td>\n",
       "      <td>0.0</td>\n",
       "      <td>0.0</td>\n",
       "      <td>0.0</td>\n",
       "      <td>0.0</td>\n",
       "    </tr>\n",
       "    <tr>\n",
       "      <th>15491</th>\n",
       "      <td>462354</td>\n",
       "      <td>2013</td>\n",
       "      <td>0.0</td>\n",
       "      <td>0.0</td>\n",
       "      <td>0.0</td>\n",
       "      <td>0.0</td>\n",
       "      <td>0.0</td>\n",
       "    </tr>\n",
       "  </tbody>\n",
       "</table>\n",
       "<p>15492 rows × 7 columns</p>\n",
       "</div>"
      ],
      "text/plain": [
       "       unitid  year  grad_cohort  grad_100  grad_150  grad_100_rate  \\\n",
       "0      100654  2002        680.0     139.0     263.0           20.4   \n",
       "1      100654  2003        748.0     153.0     288.0           20.5   \n",
       "2      100654  2004        955.0     173.0     314.0           18.1   \n",
       "3      100654  2005       1046.0      91.0     339.0            8.7   \n",
       "4      100654  2006        967.0     112.0     326.0           11.6   \n",
       "...       ...   ...          ...       ...       ...            ...   \n",
       "15487  454184  2012          1.0       0.0       0.0            0.0   \n",
       "15488  454184  2013          1.0       1.0       1.0          100.0   \n",
       "15489  462354  2011          0.0       0.0       0.0            0.0   \n",
       "15490  462354  2012          1.0       0.0       0.0            0.0   \n",
       "15491  462354  2013          0.0       0.0       0.0            0.0   \n",
       "\n",
       "       grad_150_rate  \n",
       "0               38.7  \n",
       "1               38.5  \n",
       "2               32.9  \n",
       "3               32.4  \n",
       "4               33.7  \n",
       "...              ...  \n",
       "15487            0.0  \n",
       "15488          100.0  \n",
       "15489            0.0  \n",
       "15490            0.0  \n",
       "15491            0.0  \n",
       "\n",
       "[15492 rows x 7 columns]"
      ]
     },
     "execution_count": 44,
     "metadata": {},
     "output_type": "execute_result"
    }
   ],
   "source": [
    "Grads_db2"
   ]
  },
  {
   "cell_type": "code",
   "execution_count": 402,
   "id": "2a81344d",
   "metadata": {},
   "outputs": [
    {
     "name": "stdout",
     "output_type": "stream",
     "text": [
      "<class 'pandas.core.frame.DataFrame'>\n",
      "RangeIndex: 15492 entries, 0 to 15491\n",
      "Data columns (total 7 columns):\n",
      " #   Column         Non-Null Count  Dtype  \n",
      "---  ------         --------------  -----  \n",
      " 0   unitid         15492 non-null  int64  \n",
      " 1   year           15492 non-null  int64  \n",
      " 2   grad_cohort    15492 non-null  float64\n",
      " 3   grad_100       15492 non-null  float64\n",
      " 4   grad_150       15492 non-null  float64\n",
      " 5   grad_100_rate  15492 non-null  float64\n",
      " 6   grad_150_rate  15492 non-null  float64\n",
      "dtypes: float64(5), int64(2)\n",
      "memory usage: 847.3 KB\n"
     ]
    }
   ],
   "source": [
    "Grads_db2.info()"
   ]
  },
  {
   "cell_type": "code",
   "execution_count": null,
   "id": "1115d6ed",
   "metadata": {},
   "outputs": [],
   "source": []
  },
  {
   "cell_type": "code",
   "execution_count": 436,
   "id": "de5e3ba4",
   "metadata": {},
   "outputs": [],
   "source": [
    "#IndexG = Grads_db2.loc[(Grads_db2[\"grad_cohort\"] == 0) & (Grads_db2[\"grad_100\"] == 0) & (Grads_db2[\"grad_150\"] == 0)].index"
   ]
  },
  {
   "cell_type": "code",
   "execution_count": 438,
   "id": "dd39cbad",
   "metadata": {},
   "outputs": [],
   "source": [
    "#Grads_db2.drop(IndexG,inplace=True)"
   ]
  },
  {
   "cell_type": "code",
   "execution_count": 480,
   "id": "7e39fce9",
   "metadata": {},
   "outputs": [],
   "source": [
    "Grads_db2.to_csv('resources/Grads_db2.csv')"
   ]
  },
  {
   "cell_type": "code",
   "execution_count": 481,
   "id": "e2237eee",
   "metadata": {},
   "outputs": [],
   "source": [
    "Inst2.to_csv('resources/Inst2.csv')"
   ]
  },
  {
   "cell_type": "code",
   "execution_count": null,
   "id": "f8518899",
   "metadata": {},
   "outputs": [],
   "source": []
  },
  {
   "cell_type": "code",
   "execution_count": null,
   "id": "9fb6ddf6",
   "metadata": {},
   "outputs": [],
   "source": []
  }
 ],
 "metadata": {
  "kernelspec": {
   "display_name": "Python 3 (ipykernel)",
   "language": "python",
   "name": "python3"
  },
  "language_info": {
   "codemirror_mode": {
    "name": "ipython",
    "version": 3
   },
   "file_extension": ".py",
   "mimetype": "text/x-python",
   "name": "python",
   "nbconvert_exporter": "python",
   "pygments_lexer": "ipython3",
   "version": "3.9.6"
  }
 },
 "nbformat": 4,
 "nbformat_minor": 5
}
